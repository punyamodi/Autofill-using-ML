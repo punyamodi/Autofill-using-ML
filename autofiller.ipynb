{
  "nbformat": 4,
  "nbformat_minor": 0,
  "metadata": {
    "colab": {
      "provenance": []
    },
    "kernelspec": {
      "name": "python3",
      "display_name": "Python 3"
    },
    "language_info": {
      "name": "python"
    }
  },
  "cells": [
    {
      "cell_type": "code",
      "source": [
        "faqs = \"\"\"About the Program\n",
        "What is the course fee for  Data Science Mentorship Program (DSMP 2023)\n",
        "The course follows a monthly subscription model where you have to make monthly payments of Rs 799/month.\n",
        "What is the total duration of the course?\n",
        "The total duration of the course is 7 months. So the total course fee becomes 799*7 = Rs 5600(approx.)\n",
        "What is the syllabus of the mentorship program?\n",
        "We will be covering the following modules:\n",
        "Python Fundamentals\n",
        "Python libraries for Data Science\n",
        "Data Analysis\n",
        "SQL for Data Science\n",
        "Maths for Machine Learning\n",
        "ML Algorithms\n",
        "Practical ML\n",
        "MLOPs\n",
        "Case studies\n",
        "You can check the detailed syllabus here - https://learnwith.campusx.in/courses/CampusX-Data-Science-Mentorship-Program-637339afe4b0615a1bbed390\n",
        "Will Deep Learning and NLP be a part of this program?\n",
        "No, NLP and Deep Learning both are not a part of this program’s curriculum.\n",
        "What if I miss a live session? Will I get a recording of the session?\n",
        "Yes all our sessions are recorded, so even if you miss a session you can go back and watch the recording.\n",
        "Where can I find the class schedule?\n",
        "Checkout this google sheet to see month by month time table of the course - https://docs.google.com/spreadsheets/d/16OoTax_A6ORAeCg4emgexhqqPv3noQPYKU7RJ6ArOzk/edit?usp=sharing.\n",
        "What is the time duration of all the live sessions?\n",
        "Roughly, all the sessions last 2 hours.\n",
        "What is the language spoken by the instructor during the sessions?\n",
        "Hinglish\n",
        "How will I be informed about the upcoming class?\n",
        "You will get a mail from our side before every paid session once you become a paid user.\n",
        "Can I do this course if I am from a non-tech background?\n",
        "Yes, absolutely.\n",
        "I am late, can I join the program in the middle?\n",
        "Absolutely, you can join the program anytime.\n",
        "If I join/pay in the middle, will I be able to see all the past lectures?\n",
        "Yes, once you make the payment you will be able to see all the past content in your dashboard.\n",
        "Where do I have to submit the task?\n",
        "You don’t have to submit the task. We will provide you with the solutions, you have to self evaluate the task yourself.\n",
        "Will we do case studies in the program?\n",
        "Yes.\n",
        "Where can we contact you?\n",
        "You can mail us at nitish.campusx@gmail.com\n",
        "Payment/Registration related questions\n",
        "Where do we have to make our payments? Your YouTube channel or website?\n",
        "You have to make all your monthly payments on our website. Here is the link for our website - https://learnwith.campusx.in/\n",
        "Can we pay the entire amount of Rs 5600 all at once?\n",
        "Unfortunately no, the program follows a monthly subscription model.\n",
        "What is the validity of monthly subscription? Suppose if I pay on 15th Jan, then do I have to pay again on 1st Feb or 15th Feb\n",
        "15th Feb. The validity period is 30 days from the day you make the payment. So essentially you can join anytime you don’t have to wait for a month to end.\n",
        "What if I don’t like the course after making the payment. What is the refund policy?\n",
        "You get a 7 days refund period from the day you have made the payment.\n",
        "I am living outside India and I am not able to make the payment on the website, what should I do?\n",
        "You have to contact us by sending a mail at nitish.campusx@gmail.com\n",
        "Post registration queries\n",
        "Till when can I view the paid videos on the website?\n",
        "This one is tricky, so read carefully. You can watch the videos till your subscription is valid. Suppose you have purchased subscription on 21st Jan, you will be able to watch all the past paid sessions in the period of 21st Jan to 20th Feb. But after 21st Feb you will have to purchase the subscription again.\n",
        "But once the course is over and you have paid us Rs 5600(or 7 installments of Rs 799) you will be able to watch the paid sessions till Aug 2024.\n",
        "Why lifetime validity is not provided?\n",
        "Because of the low course fee.\n",
        "Where can I reach out in case of a doubt after the session?\n",
        "You will have to fill a google form provided in your dashboard and our team will contact you for a 1 on 1 doubt clearance session\n",
        "If I join the program late, can I still ask past week doubts?\n",
        "Yes, just select past week doubt in the doubt clearance google form.\n",
        "I am living outside India and I am not able to make the payment on the website, what should I do?\n",
        "You have to contact us by sending a mail at nitish.campusx@gmai.com\n",
        "Certificate and Placement Assistance related queries\n",
        "What is the criteria to get the certificate?\n",
        "There are 2 criterias:\n",
        "You have to pay the entire fee of Rs 5600\n",
        "You have to attempt all the course assessments.\n",
        "I am joining late. How can I pay payment of the earlier months?\n",
        "You will get a link to pay fee of earlier months in your dashboard once you pay for the current month.\n",
        "I have read that Placement assistance is a part of this program. What comes under Placement assistance?\n",
        "This is to clarify that Placement assistance does not mean Placement guarantee. So we dont guarantee you any jobs or for that matter even interview calls. So if you are planning to join this course just for placements, I am afraid you will be disappointed. Here is what comes under placement assistance\n",
        "Portfolio Building sessions\n",
        "Soft skill sessions\n",
        "Sessions with industry mentors\n",
        "Discussion on Job hunting strategies\n",
        "\"\"\""
      ],
      "metadata": {
        "id": "WPIWzQdWqLNZ"
      },
      "execution_count": 4,
      "outputs": []
    },
    {
      "cell_type": "code",
      "source": [
        "import tensorflow as tf\n",
        "from tensorflow.keras.preprocessing.text import Tokenizer\n",
        "\n",
        "tokenizer=Tokenizer()\n",
        "\n",
        "seq=tokenizer.fit_on_texts([faqs])"
      ],
      "metadata": {
        "id": "XuWKlRRGrazs"
      },
      "execution_count": 6,
      "outputs": []
    },
    {
      "cell_type": "code",
      "source": [
        "print(tokenizer.word_index)\n",
        "print(len(tokenizer.word_index))"
      ],
      "metadata": {
        "colab": {
          "base_uri": "https://localhost:8080/"
        },
        "id": "LrpXjyyir-CL",
        "outputId": "5c601781-79f3-4326-b8d0-6b58f9eda857"
      },
      "execution_count": 8,
      "outputs": [
        {
          "output_type": "stream",
          "name": "stdout",
          "text": [
            "{'the': 1, 'you': 2, 'i': 3, 'to': 4, 'a': 5, 'of': 6, 'is': 7, 'have': 8, 'will': 9, 'can': 10, 'what': 11, 'course': 12, 'program': 13, 'in': 14, 'for': 15, 'all': 16, 'sessions': 17, 'on': 18, 'be': 19, 'and': 20, 'this': 21, 'if': 22, 'am': 23, 'pay': 24, 'payment': 25, 'make': 26, 'we': 27, 'do': 28, 'subscription': 29, 'where': 30, 'rs': 31, 'so': 32, 'campusx': 33, 'session': 34, 'our': 35, 'paid': 36, 'join': 37, 'able': 38, 'your': 39, 'website': 40, 'placement': 41, 'fee': 42, 'data': 43, 'monthly': 44, 'month': 45, 'not': 46, 'get': 47, 'yes': 48, 'once': 49, 'past': 50, 'feb': 51, 'assistance': 52, 'science': 53, '7': 54, '5600': 55, 'are': 56, 'watch': 57, 'google': 58, 'by': 59, 'com': 60, 'mail': 61, 'from': 62, 'contact': 63, 'us': 64, 'at': 65, 'or': 66, 'doubt': 67, 'mentorship': 68, 'payments': 69, '799': 70, 'total': 71, 'duration': 72, 'months': 73, 'learning': 74, 'case': 75, 'here': 76, 'https': 77, 'part': 78, 'see': 79, 'late': 80, 'dashboard': 81, 'task': 82, 'don’t': 83, 'nitish': 84, 'validity': 85, '15th': 86, 'jan': 87, 'period': 88, 'after': 89, 'till': 90, '21st': 91, 'that': 92, 'about': 93, 'follows': 94, 'model': 95, 'syllabus': 96, 'python': 97, 'ml': 98, 'studies': 99, 'learnwith': 100, 'deep': 101, 'nlp': 102, 'no': 103, 'miss': 104, 'live': 105, 'recording': 106, 'even': 107, 'class': 108, 'time': 109, '2': 110, 'how': 111, 'absolutely': 112, 'middle': 113, 'anytime': 114, 'submit': 115, 'with': 116, 'gmail': 117, 'registration': 118, 'related': 119, 'link': 120, 'entire': 121, 'suppose': 122, 'again': 123, 'days': 124, 'day': 125, 'refund': 126, 'living': 127, 'outside': 128, 'india': 129, 'should': 130, 'sending': 131, 'queries': 132, 'videos': 133, 'read': 134, 'but': 135, 'provided': 136, 'form': 137, '1': 138, 'clearance': 139, 'week': 140, 'just': 141, 'certificate': 142, 'earlier': 143, 'comes': 144, 'under': 145, 'guarantee': 146, 'dsmp': 147, '2023': 148, 'becomes': 149, 'approx': 150, 'covering': 151, 'following': 152, 'modules': 153, 'fundamentals': 154, 'libraries': 155, 'analysis': 156, 'sql': 157, 'maths': 158, 'machine': 159, 'algorithms': 160, 'practical': 161, 'mlops': 162, 'check': 163, 'detailed': 164, 'courses': 165, '637339afe4b0615a1bbed390': 166, 'both': 167, 'program’s': 168, 'curriculum': 169, 'recorded': 170, 'go': 171, 'back': 172, 'find': 173, 'schedule': 174, 'checkout': 175, 'sheet': 176, 'table': 177, 'docs': 178, 'spreadsheets': 179, 'd': 180, '16ootax': 181, 'a6oraecg4emgexhqqpv3noqpyku7rj6arozk': 182, 'edit': 183, 'usp': 184, 'sharing': 185, 'roughly': 186, 'last': 187, 'hours': 188, 'language': 189, 'spoken': 190, 'instructor': 191, 'during': 192, 'hinglish': 193, 'informed': 194, 'upcoming': 195, 'side': 196, 'before': 197, 'every': 198, 'become': 199, 'user': 200, 'non': 201, 'tech': 202, 'background': 203, 'lectures': 204, 'content': 205, 'provide': 206, 'solutions': 207, 'self': 208, 'evaluate': 209, 'yourself': 210, 'questions': 211, 'youtube': 212, 'channel': 213, 'amount': 214, 'unfortunately': 215, 'then': 216, '1st': 217, '30': 218, 'essentially': 219, 'wait': 220, 'end': 221, 'like': 222, 'making': 223, 'policy': 224, 'made': 225, 'post': 226, 'when': 227, 'view': 228, 'one': 229, 'tricky': 230, 'carefully': 231, 'valid': 232, 'purchased': 233, '20th': 234, 'purchase': 235, 'over': 236, 'installments': 237, 'aug': 238, '2024': 239, 'why': 240, 'lifetime': 241, 'because': 242, 'low': 243, 'reach': 244, 'out': 245, 'fill': 246, 'team': 247, 'still': 248, 'ask': 249, 'doubts': 250, 'select': 251, 'gmai': 252, 'criteria': 253, 'there': 254, 'criterias': 255, 'attempt': 256, 'assessments': 257, 'joining': 258, 'current': 259, 'clarify': 260, 'does': 261, 'mean': 262, 'dont': 263, 'any': 264, 'jobs': 265, 'matter': 266, 'interview': 267, 'calls': 268, 'planning': 269, 'placements': 270, 'afraid': 271, 'disappointed': 272, 'portfolio': 273, 'building': 274, 'soft': 275, 'skill': 276, 'industry': 277, 'mentors': 278, 'discussion': 279, 'job': 280, 'hunting': 281, 'strategies': 282}\n",
            "282\n"
          ]
        }
      ]
    },
    {
      "cell_type": "code",
      "source": [
        "input_sequences = []\n",
        "for sentence in faqs.split('\\n'):\n",
        "  tokenized_sentence = tokenizer.texts_to_sequences([sentence])[0]\n",
        "  print(tokenized_sentence)\n",
        "\n",
        "  for i in range(1,len(tokenized_sentence)):\n",
        "    input_sequences.append(tokenized_sentence[:i+1])"
      ],
      "metadata": {
        "colab": {
          "base_uri": "https://localhost:8080/"
        },
        "id": "RrXZUuADsOXg",
        "outputId": "d532bf15-1d5b-4f5b-9d6e-f0094a8840f1"
      },
      "execution_count": 15,
      "outputs": [
        {
          "output_type": "stream",
          "name": "stdout",
          "text": [
            "[93, 1, 13]\n",
            "[11, 7, 1, 12, 42, 15, 43, 53, 68, 13, 147, 148]\n",
            "[1, 12, 94, 5, 44, 29, 95, 30, 2, 8, 4, 26, 44, 69, 6, 31, 70, 45]\n",
            "[11, 7, 1, 71, 72, 6, 1, 12]\n",
            "[1, 71, 72, 6, 1, 12, 7, 54, 73, 32, 1, 71, 12, 42, 149, 70, 54, 31, 55, 150]\n",
            "[11, 7, 1, 96, 6, 1, 68, 13]\n",
            "[27, 9, 19, 151, 1, 152, 153]\n",
            "[97, 154]\n",
            "[97, 155, 15, 43, 53]\n",
            "[43, 156]\n",
            "[157, 15, 43, 53]\n",
            "[158, 15, 159, 74]\n",
            "[98, 160]\n",
            "[161, 98]\n",
            "[162]\n",
            "[75, 99]\n",
            "[2, 10, 163, 1, 164, 96, 76, 77, 100, 33, 14, 165, 33, 43, 53, 68, 13, 166]\n",
            "[9, 101, 74, 20, 102, 19, 5, 78, 6, 21, 13]\n",
            "[103, 102, 20, 101, 74, 167, 56, 46, 5, 78, 6, 21, 168, 169]\n",
            "[11, 22, 3, 104, 5, 105, 34, 9, 3, 47, 5, 106, 6, 1, 34]\n",
            "[48, 16, 35, 17, 56, 170, 32, 107, 22, 2, 104, 5, 34, 2, 10, 171, 172, 20, 57, 1, 106]\n",
            "[30, 10, 3, 173, 1, 108, 174]\n",
            "[175, 21, 58, 176, 4, 79, 45, 59, 45, 109, 177, 6, 1, 12, 77, 178, 58, 60, 179, 180, 181, 182, 183, 184, 185]\n",
            "[11, 7, 1, 109, 72, 6, 16, 1, 105, 17]\n",
            "[186, 16, 1, 17, 187, 110, 188]\n",
            "[11, 7, 1, 189, 190, 59, 1, 191, 192, 1, 17]\n",
            "[193]\n",
            "[111, 9, 3, 19, 194, 93, 1, 195, 108]\n",
            "[2, 9, 47, 5, 61, 62, 35, 196, 197, 198, 36, 34, 49, 2, 199, 5, 36, 200]\n",
            "[10, 3, 28, 21, 12, 22, 3, 23, 62, 5, 201, 202, 203]\n",
            "[48, 112]\n",
            "[3, 23, 80, 10, 3, 37, 1, 13, 14, 1, 113]\n",
            "[112, 2, 10, 37, 1, 13, 114]\n",
            "[22, 3, 37, 24, 14, 1, 113, 9, 3, 19, 38, 4, 79, 16, 1, 50, 204]\n",
            "[48, 49, 2, 26, 1, 25, 2, 9, 19, 38, 4, 79, 16, 1, 50, 205, 14, 39, 81]\n",
            "[30, 28, 3, 8, 4, 115, 1, 82]\n",
            "[2, 83, 8, 4, 115, 1, 82, 27, 9, 206, 2, 116, 1, 207, 2, 8, 4, 208, 209, 1, 82, 210]\n",
            "[9, 27, 28, 75, 99, 14, 1, 13]\n",
            "[48]\n",
            "[30, 10, 27, 63, 2]\n",
            "[2, 10, 61, 64, 65, 84, 33, 117, 60]\n",
            "[25, 118, 119, 211]\n",
            "[30, 28, 27, 8, 4, 26, 35, 69, 39, 212, 213, 66, 40]\n",
            "[2, 8, 4, 26, 16, 39, 44, 69, 18, 35, 40, 76, 7, 1, 120, 15, 35, 40, 77, 100, 33, 14]\n",
            "[10, 27, 24, 1, 121, 214, 6, 31, 55, 16, 65, 49]\n",
            "[215, 103, 1, 13, 94, 5, 44, 29, 95]\n",
            "[11, 7, 1, 85, 6, 44, 29, 122, 22, 3, 24, 18, 86, 87, 216, 28, 3, 8, 4, 24, 123, 18, 217, 51, 66, 86, 51]\n",
            "[86, 51, 1, 85, 88, 7, 218, 124, 62, 1, 125, 2, 26, 1, 25, 32, 219, 2, 10, 37, 114, 2, 83, 8, 4, 220, 15, 5, 45, 4, 221]\n",
            "[11, 22, 3, 83, 222, 1, 12, 89, 223, 1, 25, 11, 7, 1, 126, 224]\n",
            "[2, 47, 5, 54, 124, 126, 88, 62, 1, 125, 2, 8, 225, 1, 25]\n",
            "[3, 23, 127, 128, 129, 20, 3, 23, 46, 38, 4, 26, 1, 25, 18, 1, 40, 11, 130, 3, 28]\n",
            "[2, 8, 4, 63, 64, 59, 131, 5, 61, 65, 84, 33, 117, 60]\n",
            "[226, 118, 132]\n",
            "[90, 227, 10, 3, 228, 1, 36, 133, 18, 1, 40]\n",
            "[21, 229, 7, 230, 32, 134, 231, 2, 10, 57, 1, 133, 90, 39, 29, 7, 232, 122, 2, 8, 233, 29, 18, 91, 87, 2, 9, 19, 38, 4, 57, 16, 1, 50, 36, 17, 14, 1, 88, 6, 91, 87, 4, 234, 51, 135, 89, 91, 51, 2, 9, 8, 4, 235, 1, 29, 123]\n",
            "[135, 49, 1, 12, 7, 236, 20, 2, 8, 36, 64, 31, 55, 66, 54, 237, 6, 31, 70, 2, 9, 19, 38, 4, 57, 1, 36, 17, 90, 238, 239]\n",
            "[240, 241, 85, 7, 46, 136]\n",
            "[242, 6, 1, 243, 12, 42]\n",
            "[30, 10, 3, 244, 245, 14, 75, 6, 5, 67, 89, 1, 34]\n",
            "[2, 9, 8, 4, 246, 5, 58, 137, 136, 14, 39, 81, 20, 35, 247, 9, 63, 2, 15, 5, 138, 18, 138, 67, 139, 34]\n",
            "[22, 3, 37, 1, 13, 80, 10, 3, 248, 249, 50, 140, 250]\n",
            "[48, 141, 251, 50, 140, 67, 14, 1, 67, 139, 58, 137]\n",
            "[3, 23, 127, 128, 129, 20, 3, 23, 46, 38, 4, 26, 1, 25, 18, 1, 40, 11, 130, 3, 28]\n",
            "[2, 8, 4, 63, 64, 59, 131, 5, 61, 65, 84, 33, 252, 60]\n",
            "[142, 20, 41, 52, 119, 132]\n",
            "[11, 7, 1, 253, 4, 47, 1, 142]\n",
            "[254, 56, 110, 255]\n",
            "[2, 8, 4, 24, 1, 121, 42, 6, 31, 55]\n",
            "[2, 8, 4, 256, 16, 1, 12, 257]\n",
            "[3, 23, 258, 80, 111, 10, 3, 24, 25, 6, 1, 143, 73]\n",
            "[2, 9, 47, 5, 120, 4, 24, 42, 6, 143, 73, 14, 39, 81, 49, 2, 24, 15, 1, 259, 45]\n",
            "[3, 8, 134, 92, 41, 52, 7, 5, 78, 6, 21, 13, 11, 144, 145, 41, 52]\n",
            "[21, 7, 4, 260, 92, 41, 52, 261, 46, 262, 41, 146, 32, 27, 263, 146, 2, 264, 265, 66, 15, 92, 266, 107, 267, 268, 32, 22, 2, 56, 269, 4, 37, 21, 12, 141, 15, 270, 3, 23, 271, 2, 9, 19, 272, 76, 7, 11, 144, 145, 41, 52]\n",
            "[273, 274, 17]\n",
            "[275, 276, 17]\n",
            "[17, 116, 277, 278]\n",
            "[279, 18, 280, 281, 282]\n",
            "[]\n"
          ]
        }
      ]
    },
    {
      "cell_type": "code",
      "source": [
        "max_len = max([len(x) for x in input_sequences])"
      ],
      "metadata": {
        "id": "7nJHs07LwFv7"
      },
      "execution_count": 33,
      "outputs": []
    },
    {
      "cell_type": "code",
      "source": [
        "from tensorflow.keras.preprocessing.sequence import pad_sequences\n",
        "ds=pad_sequences(input_sequences,maxlen=max_len,padding=\"pre\")\n",
        "print(X)"
      ],
      "metadata": {
        "colab": {
          "base_uri": "https://localhost:8080/"
        },
        "id": "kpCRoelxtMuJ",
        "outputId": "7d452407-93f1-40f4-a3f4-9d539e87d990"
      },
      "execution_count": 34,
      "outputs": [
        {
          "output_type": "stream",
          "name": "stdout",
          "text": [
            "[[  0   0   0 ...   0   0  93]\n",
            " [  0   0   0 ...   0  93   1]\n",
            " [  0   0   0 ...   0   0  11]\n",
            " ...\n",
            " [  0   0   0 ...   0 279  18]\n",
            " [  0   0   0 ... 279  18 280]\n",
            " [  0   0   0 ...  18 280 281]]\n"
          ]
        }
      ]
    },
    {
      "cell_type": "code",
      "source": [
        "X=ds[:,:-1]\n",
        "y = ds[:,-1]\n",
        "print(X)\n",
        "print(y)\n",
        "print(y.shape)"
      ],
      "metadata": {
        "colab": {
          "base_uri": "https://localhost:8080/"
        },
        "id": "Q-OngVVst_J_",
        "outputId": "3c4dd8db-18f5-400a-cfeb-6c557087b08a"
      },
      "execution_count": 35,
      "outputs": [
        {
          "output_type": "stream",
          "name": "stdout",
          "text": [
            "[[  0   0   0 ...   0   0  93]\n",
            " [  0   0   0 ...   0  93   1]\n",
            " [  0   0   0 ...   0   0  11]\n",
            " ...\n",
            " [  0   0   0 ...   0 279  18]\n",
            " [  0   0   0 ... 279  18 280]\n",
            " [  0   0   0 ...  18 280 281]]\n",
            "[  1  13   7   1  12  42  15  43  53  68  13 147 148  12  94   5  44  29\n",
            "  95  30   2   8   4  26  44  69   6  31  70  45   7   1  71  72   6   1\n",
            "  12  71  72   6   1  12   7  54  73  32   1  71  12  42 149  70  54  31\n",
            "  55 150   7   1  96   6   1  68  13   9  19 151   1 152 153 154 155  15\n",
            "  43  53 156  15  43  53  15 159  74 160  98  99  10 163   1 164  96  76\n",
            "  77 100  33  14 165  33  43  53  68  13 166 101  74  20 102  19   5  78\n",
            "   6  21  13 102  20 101  74 167  56  46   5  78   6  21 168 169  22   3\n",
            " 104   5 105  34   9   3  47   5 106   6   1  34  16  35  17  56 170  32\n",
            " 107  22   2 104   5  34   2  10 171 172  20  57   1 106  10   3 173   1\n",
            " 108 174  21  58 176   4  79  45  59  45 109 177   6   1  12  77 178  58\n",
            "  60 179 180 181 182 183 184 185   7   1 109  72   6  16   1 105  17  16\n",
            "   1  17 187 110 188   7   1 189 190  59   1 191 192   1  17   9   3  19\n",
            " 194  93   1 195 108   9  47   5  61  62  35 196 197 198  36  34  49   2\n",
            " 199   5  36 200   3  28  21  12  22   3  23  62   5 201 202 203 112  23\n",
            "  80  10   3  37   1  13  14   1 113   2  10  37   1  13 114   3  37  24\n",
            "  14   1 113   9   3  19  38   4  79  16   1  50 204  49   2  26   1  25\n",
            "   2   9  19  38   4  79  16   1  50 205  14  39  81  28   3   8   4 115\n",
            "   1  82  83   8   4 115   1  82  27   9 206   2 116   1 207   2   8   4\n",
            " 208 209   1  82 210  27  28  75  99  14   1  13  10  27  63   2  10  61\n",
            "  64  65  84  33 117  60 118 119 211  28  27   8   4  26  35  69  39 212\n",
            " 213  66  40   8   4  26  16  39  44  69  18  35  40  76   7   1 120  15\n",
            "  35  40  77 100  33  14  27  24   1 121 214   6  31  55  16  65  49 103\n",
            "   1  13  94   5  44  29  95   7   1  85   6  44  29 122  22   3  24  18\n",
            "  86  87 216  28   3   8   4  24 123  18 217  51  66  86  51  51   1  85\n",
            "  88   7 218 124  62   1 125   2  26   1  25  32 219   2  10  37 114   2\n",
            "  83   8   4 220  15   5  45   4 221  22   3  83 222   1  12  89 223   1\n",
            "  25  11   7   1 126 224  47   5  54 124 126  88  62   1 125   2   8 225\n",
            "   1  25  23 127 128 129  20   3  23  46  38   4  26   1  25  18   1  40\n",
            "  11 130   3  28   8   4  63  64  59 131   5  61  65  84  33 117  60 118\n",
            " 132 227  10   3 228   1  36 133  18   1  40 229   7 230  32 134 231   2\n",
            "  10  57   1 133  90  39  29   7 232 122   2   8 233  29  18  91  87   2\n",
            "   9  19  38   4  57  16   1  50  36  17  14   1  88   6  91  87   4 234\n",
            "  51 135  89  91  51   2   9   8   4 235   1  29 123  49   1  12   7 236\n",
            "  20   2   8  36  64  31  55  66  54 237   6  31  70   2   9  19  38   4\n",
            "  57   1  36  17  90 238 239 241  85   7  46 136   6   1 243  12  42  10\n",
            "   3 244 245  14  75   6   5  67  89   1  34   9   8   4 246   5  58 137\n",
            " 136  14  39  81  20  35 247   9  63   2  15   5 138  18 138  67 139  34\n",
            "   3  37   1  13  80  10   3 248 249  50 140 250 141 251  50 140  67  14\n",
            "   1  67 139  58 137  23 127 128 129  20   3  23  46  38   4  26   1  25\n",
            "  18   1  40  11 130   3  28   8   4  63  64  59 131   5  61  65  84  33\n",
            " 252  60  20  41  52 119 132   7   1 253   4  47   1 142  56 110 255   8\n",
            "   4  24   1 121  42   6  31  55   8   4 256  16   1  12 257  23 258  80\n",
            " 111  10   3  24  25   6   1 143  73   9  47   5 120   4  24  42   6 143\n",
            "  73  14  39  81  49   2  24  15   1 259  45   8 134  92  41  52   7   5\n",
            "  78   6  21  13  11 144 145  41  52   7   4 260  92  41  52 261  46 262\n",
            "  41 146  32  27 263 146   2 264 265  66  15  92 266 107 267 268  32  22\n",
            "   2  56 269   4  37  21  12 141  15 270   3  23 271   2   9  19 272  76\n",
            "   7  11 144 145  41  52 274  17 276  17 116 277 278  18 280 281 282]\n",
            "(863,)\n"
          ]
        }
      ]
    },
    {
      "cell_type": "code",
      "source": [
        "from tensorflow.keras.utils import to_categorical\n",
        "y = to_categorical(y,num_classes=283)\n",
        "print(y)\n",
        "print(y.shape)"
      ],
      "metadata": {
        "colab": {
          "base_uri": "https://localhost:8080/"
        },
        "id": "PJTZhDYpu2Fh",
        "outputId": "698e42da-03f3-47d2-f5f7-4365538d521c"
      },
      "execution_count": 36,
      "outputs": [
        {
          "output_type": "stream",
          "name": "stdout",
          "text": [
            "[[0. 1. 0. ... 0. 0. 0.]\n",
            " [0. 0. 0. ... 0. 0. 0.]\n",
            " [0. 0. 0. ... 0. 0. 0.]\n",
            " ...\n",
            " [0. 0. 0. ... 1. 0. 0.]\n",
            " [0. 0. 0. ... 0. 1. 0.]\n",
            " [0. 0. 0. ... 0. 0. 1.]]\n",
            "(863, 283)\n"
          ]
        }
      ]
    },
    {
      "cell_type": "code",
      "source": [
        "from tensorflow.keras.models import Sequential\n",
        "from tensorflow.keras.layers import Embedding, LSTM, Dense"
      ],
      "metadata": {
        "id": "RwuOv9UIvMwT"
      },
      "execution_count": 37,
      "outputs": []
    },
    {
      "cell_type": "code",
      "source": [
        "model = Sequential()\n",
        "model.add(Embedding(283, 100, input_length=56))\n",
        "model.add(LSTM(150,return_sequences=True))\n",
        "model.add(LSTM(150))\n",
        "model.add(Dense(283, activation='softmax'))"
      ],
      "metadata": {
        "id": "9W5LYTNBvPDI"
      },
      "execution_count": 41,
      "outputs": []
    },
    {
      "cell_type": "code",
      "source": [
        "model.compile(loss='categorical_crossentropy', optimizer='adam',metrics=['accuracy'])"
      ],
      "metadata": {
        "id": "Lo__2P5xvRFr"
      },
      "execution_count": 42,
      "outputs": []
    },
    {
      "cell_type": "code",
      "source": [
        "model.summary()"
      ],
      "metadata": {
        "colab": {
          "base_uri": "https://localhost:8080/"
        },
        "id": "fv3l_JO-wdSg",
        "outputId": "e23b2985-6576-4c06-ed5b-ef2dcd4ef43d"
      },
      "execution_count": 43,
      "outputs": [
        {
          "output_type": "stream",
          "name": "stdout",
          "text": [
            "Model: \"sequential_7\"\n",
            "_________________________________________________________________\n",
            " Layer (type)                Output Shape              Param #   \n",
            "=================================================================\n",
            " embedding_7 (Embedding)     (None, 56, 100)           28300     \n",
            "                                                                 \n",
            " lstm_10 (LSTM)              (None, 56, 150)           150600    \n",
            "                                                                 \n",
            " lstm_11 (LSTM)              (None, 150)               180600    \n",
            "                                                                 \n",
            " dense (Dense)               (None, 283)               42733     \n",
            "                                                                 \n",
            "=================================================================\n",
            "Total params: 402233 (1.53 MB)\n",
            "Trainable params: 402233 (1.53 MB)\n",
            "Non-trainable params: 0 (0.00 Byte)\n",
            "_________________________________________________________________\n"
          ]
        }
      ]
    },
    {
      "cell_type": "code",
      "source": [
        "history=model.fit(X,y,epochs=100)"
      ],
      "metadata": {
        "colab": {
          "base_uri": "https://localhost:8080/"
        },
        "id": "0B081mgPvV8C",
        "outputId": "303d275d-18d9-4b10-d358-53c212d0a05b"
      },
      "execution_count": 44,
      "outputs": [
        {
          "output_type": "stream",
          "name": "stdout",
          "text": [
            "Epoch 1/100\n",
            "27/27 [==============================] - 7s 146ms/step - loss: 5.4169 - accuracy: 0.0718\n",
            "Epoch 2/100\n",
            "27/27 [==============================] - 4s 161ms/step - loss: 5.0925 - accuracy: 0.0776\n",
            "Epoch 3/100\n",
            "27/27 [==============================] - 3s 115ms/step - loss: 5.0382 - accuracy: 0.0776\n",
            "Epoch 4/100\n",
            "27/27 [==============================] - 4s 150ms/step - loss: 5.0263 - accuracy: 0.0776\n",
            "Epoch 5/100\n",
            "27/27 [==============================] - 3s 122ms/step - loss: 5.0130 - accuracy: 0.0776\n",
            "Epoch 6/100\n",
            "27/27 [==============================] - 3s 114ms/step - loss: 5.0100 - accuracy: 0.0776\n",
            "Epoch 7/100\n",
            "27/27 [==============================] - 3s 114ms/step - loss: 5.0053 - accuracy: 0.0776\n",
            "Epoch 8/100\n",
            "27/27 [==============================] - 4s 150ms/step - loss: 4.9892 - accuracy: 0.0776\n",
            "Epoch 9/100\n",
            "27/27 [==============================] - 3s 115ms/step - loss: 4.9513 - accuracy: 0.0776\n",
            "Epoch 10/100\n",
            "27/27 [==============================] - 3s 114ms/step - loss: 4.8643 - accuracy: 0.0776\n",
            "Epoch 11/100\n",
            "27/27 [==============================] - 4s 133ms/step - loss: 4.7465 - accuracy: 0.0776\n",
            "Epoch 12/100\n",
            "27/27 [==============================] - 3s 122ms/step - loss: 4.6107 - accuracy: 0.0939\n",
            "Epoch 13/100\n",
            "27/27 [==============================] - 3s 112ms/step - loss: 4.4645 - accuracy: 0.1112\n",
            "Epoch 14/100\n",
            "27/27 [==============================] - 3s 116ms/step - loss: 4.3076 - accuracy: 0.1448\n",
            "Epoch 15/100\n",
            "27/27 [==============================] - 4s 149ms/step - loss: 4.1158 - accuracy: 0.1611\n",
            "Epoch 16/100\n",
            "27/27 [==============================] - 3s 114ms/step - loss: 3.9509 - accuracy: 0.1761\n",
            "Epoch 17/100\n",
            "27/27 [==============================] - 3s 113ms/step - loss: 3.7886 - accuracy: 0.1947\n",
            "Epoch 18/100\n",
            "27/27 [==============================] - 3s 115ms/step - loss: 3.6531 - accuracy: 0.2121\n",
            "Epoch 19/100\n",
            "27/27 [==============================] - 4s 144ms/step - loss: 3.5211 - accuracy: 0.2410\n",
            "Epoch 20/100\n",
            "27/27 [==============================] - 3s 114ms/step - loss: 3.3757 - accuracy: 0.2526\n",
            "Epoch 21/100\n",
            "27/27 [==============================] - 3s 114ms/step - loss: 3.2319 - accuracy: 0.2677\n",
            "Epoch 22/100\n",
            "27/27 [==============================] - 4s 149ms/step - loss: 3.1018 - accuracy: 0.2851\n",
            "Epoch 23/100\n",
            "27/27 [==============================] - 3s 117ms/step - loss: 2.9683 - accuracy: 0.3198\n",
            "Epoch 24/100\n",
            "27/27 [==============================] - 3s 116ms/step - loss: 2.8488 - accuracy: 0.3349\n",
            "Epoch 25/100\n",
            "27/27 [==============================] - 3s 116ms/step - loss: 2.7350 - accuracy: 0.3581\n",
            "Epoch 26/100\n",
            "27/27 [==============================] - 4s 149ms/step - loss: 2.6189 - accuracy: 0.3835\n",
            "Epoch 27/100\n",
            "27/27 [==============================] - 3s 114ms/step - loss: 2.5041 - accuracy: 0.4090\n",
            "Epoch 28/100\n",
            "27/27 [==============================] - 3s 113ms/step - loss: 2.3964 - accuracy: 0.4345\n",
            "Epoch 29/100\n",
            "27/27 [==============================] - 4s 144ms/step - loss: 2.2956 - accuracy: 0.4600\n",
            "Epoch 30/100\n",
            "27/27 [==============================] - 3s 117ms/step - loss: 2.2004 - accuracy: 0.4820\n",
            "Epoch 31/100\n",
            "27/27 [==============================] - 3s 114ms/step - loss: 2.1001 - accuracy: 0.5122\n",
            "Epoch 32/100\n",
            "27/27 [==============================] - 3s 115ms/step - loss: 2.0164 - accuracy: 0.5342\n",
            "Epoch 33/100\n",
            "27/27 [==============================] - 4s 149ms/step - loss: 1.9317 - accuracy: 0.5678\n",
            "Epoch 34/100\n",
            "27/27 [==============================] - 3s 114ms/step - loss: 1.8434 - accuracy: 0.5875\n",
            "Epoch 35/100\n",
            "27/27 [==============================] - 3s 113ms/step - loss: 1.7590 - accuracy: 0.6130\n",
            "Epoch 36/100\n",
            "27/27 [==============================] - 3s 117ms/step - loss: 1.6735 - accuracy: 0.6454\n",
            "Epoch 37/100\n",
            "27/27 [==============================] - 4s 140ms/step - loss: 1.5995 - accuracy: 0.6860\n",
            "Epoch 38/100\n",
            "27/27 [==============================] - 3s 113ms/step - loss: 1.5446 - accuracy: 0.6871\n",
            "Epoch 39/100\n",
            "27/27 [==============================] - 3s 112ms/step - loss: 1.4656 - accuracy: 0.7034\n",
            "Epoch 40/100\n",
            "27/27 [==============================] - 4s 149ms/step - loss: 1.3979 - accuracy: 0.7300\n",
            "Epoch 41/100\n",
            "27/27 [==============================] - 3s 114ms/step - loss: 1.3311 - accuracy: 0.7486\n",
            "Epoch 42/100\n",
            "27/27 [==============================] - 3s 117ms/step - loss: 1.2744 - accuracy: 0.7683\n",
            "Epoch 43/100\n",
            "27/27 [==============================] - 3s 113ms/step - loss: 1.2128 - accuracy: 0.7810\n",
            "Epoch 44/100\n",
            "27/27 [==============================] - 4s 147ms/step - loss: 1.1627 - accuracy: 0.7926\n",
            "Epoch 45/100\n",
            "27/27 [==============================] - 3s 114ms/step - loss: 1.1038 - accuracy: 0.8065\n",
            "Epoch 46/100\n",
            "27/27 [==============================] - 3s 112ms/step - loss: 1.0493 - accuracy: 0.8227\n",
            "Epoch 47/100\n",
            "27/27 [==============================] - 3s 129ms/step - loss: 1.0110 - accuracy: 0.8216\n",
            "Epoch 48/100\n",
            "27/27 [==============================] - 4s 128ms/step - loss: 0.9652 - accuracy: 0.8401\n",
            "Epoch 49/100\n",
            "27/27 [==============================] - 3s 114ms/step - loss: 0.9243 - accuracy: 0.8459\n",
            "Epoch 50/100\n",
            "27/27 [==============================] - 3s 112ms/step - loss: 0.8774 - accuracy: 0.8540\n",
            "Epoch 51/100\n",
            "27/27 [==============================] - 4s 149ms/step - loss: 0.8386 - accuracy: 0.8552\n",
            "Epoch 52/100\n",
            "27/27 [==============================] - 3s 114ms/step - loss: 0.8050 - accuracy: 0.8598\n",
            "Epoch 53/100\n",
            "27/27 [==============================] - 3s 113ms/step - loss: 0.7684 - accuracy: 0.8702\n",
            "Epoch 54/100\n",
            "27/27 [==============================] - 3s 116ms/step - loss: 0.7321 - accuracy: 0.8841\n",
            "Epoch 55/100\n",
            "27/27 [==============================] - 4s 149ms/step - loss: 0.7040 - accuracy: 0.8853\n",
            "Epoch 56/100\n",
            "27/27 [==============================] - 3s 115ms/step - loss: 0.6693 - accuracy: 0.8957\n",
            "Epoch 57/100\n",
            "27/27 [==============================] - 3s 114ms/step - loss: 0.6435 - accuracy: 0.8957\n",
            "Epoch 58/100\n",
            "27/27 [==============================] - 4s 147ms/step - loss: 0.6206 - accuracy: 0.9015\n",
            "Epoch 59/100\n",
            "27/27 [==============================] - 3s 113ms/step - loss: 0.5958 - accuracy: 0.9015\n",
            "Epoch 60/100\n",
            "27/27 [==============================] - 3s 114ms/step - loss: 0.5715 - accuracy: 0.9131\n",
            "Epoch 61/100\n",
            "27/27 [==============================] - 3s 114ms/step - loss: 0.5485 - accuracy: 0.9154\n",
            "Epoch 62/100\n",
            "27/27 [==============================] - 4s 150ms/step - loss: 0.5258 - accuracy: 0.9166\n",
            "Epoch 63/100\n",
            "27/27 [==============================] - 3s 115ms/step - loss: 0.5080 - accuracy: 0.9212\n",
            "Epoch 64/100\n",
            "27/27 [==============================] - 3s 116ms/step - loss: 0.4844 - accuracy: 0.9316\n",
            "Epoch 65/100\n",
            "27/27 [==============================] - 3s 127ms/step - loss: 0.4676 - accuracy: 0.9293\n",
            "Epoch 66/100\n",
            "27/27 [==============================] - 4s 132ms/step - loss: 0.4506 - accuracy: 0.9386\n",
            "Epoch 67/100\n",
            "27/27 [==============================] - 3s 116ms/step - loss: 0.4356 - accuracy: 0.9305\n",
            "Epoch 68/100\n",
            "27/27 [==============================] - 3s 115ms/step - loss: 0.4194 - accuracy: 0.9409\n",
            "Epoch 69/100\n",
            "27/27 [==============================] - 4s 147ms/step - loss: 0.4022 - accuracy: 0.9444\n",
            "Epoch 70/100\n",
            "27/27 [==============================] - 3s 114ms/step - loss: 0.3924 - accuracy: 0.9409\n",
            "Epoch 71/100\n",
            "27/27 [==============================] - 3s 113ms/step - loss: 0.3762 - accuracy: 0.9432\n",
            "Epoch 72/100\n",
            "27/27 [==============================] - 3s 114ms/step - loss: 0.3639 - accuracy: 0.9455\n",
            "Epoch 73/100\n",
            "27/27 [==============================] - 4s 147ms/step - loss: 0.3536 - accuracy: 0.9432\n",
            "Epoch 74/100\n",
            "27/27 [==============================] - 3s 114ms/step - loss: 0.3435 - accuracy: 0.9374\n",
            "Epoch 75/100\n",
            "27/27 [==============================] - 3s 113ms/step - loss: 0.3322 - accuracy: 0.9432\n",
            "Epoch 76/100\n",
            "27/27 [==============================] - 4s 138ms/step - loss: 0.3220 - accuracy: 0.9467\n",
            "Epoch 77/100\n",
            "27/27 [==============================] - 3s 119ms/step - loss: 0.3120 - accuracy: 0.9397\n",
            "Epoch 78/100\n",
            "27/27 [==============================] - 3s 115ms/step - loss: 0.3020 - accuracy: 0.9444\n",
            "Epoch 79/100\n",
            "27/27 [==============================] - 3s 114ms/step - loss: 0.2932 - accuracy: 0.9455\n",
            "Epoch 80/100\n",
            "27/27 [==============================] - 4s 148ms/step - loss: 0.2866 - accuracy: 0.9432\n",
            "Epoch 81/100\n",
            "27/27 [==============================] - 3s 115ms/step - loss: 0.2748 - accuracy: 0.9490\n",
            "Epoch 82/100\n",
            "27/27 [==============================] - 3s 115ms/step - loss: 0.2678 - accuracy: 0.9409\n",
            "Epoch 83/100\n",
            "27/27 [==============================] - 3s 122ms/step - loss: 0.2628 - accuracy: 0.9444\n",
            "Epoch 84/100\n",
            "27/27 [==============================] - 4s 139ms/step - loss: 0.2570 - accuracy: 0.9397\n",
            "Epoch 85/100\n",
            "27/27 [==============================] - 3s 115ms/step - loss: 0.2498 - accuracy: 0.9479\n",
            "Epoch 86/100\n",
            "27/27 [==============================] - 3s 113ms/step - loss: 0.2444 - accuracy: 0.9444\n",
            "Epoch 87/100\n",
            "27/27 [==============================] - 4s 150ms/step - loss: 0.2389 - accuracy: 0.9444\n",
            "Epoch 88/100\n",
            "27/27 [==============================] - 3s 117ms/step - loss: 0.2323 - accuracy: 0.9467\n",
            "Epoch 89/100\n",
            "27/27 [==============================] - 3s 116ms/step - loss: 0.2280 - accuracy: 0.9490\n",
            "Epoch 90/100\n",
            "27/27 [==============================] - 3s 115ms/step - loss: 0.2239 - accuracy: 0.9467\n",
            "Epoch 91/100\n",
            "27/27 [==============================] - 5s 182ms/step - loss: 0.2197 - accuracy: 0.9467\n",
            "Epoch 92/100\n",
            "27/27 [==============================] - 4s 147ms/step - loss: 0.2153 - accuracy: 0.9455\n",
            "Epoch 93/100\n",
            "27/27 [==============================] - 4s 149ms/step - loss: 0.2108 - accuracy: 0.9432\n",
            "Epoch 94/100\n",
            "27/27 [==============================] - 4s 147ms/step - loss: 0.2066 - accuracy: 0.9455\n",
            "Epoch 95/100\n",
            "27/27 [==============================] - 3s 126ms/step - loss: 0.2026 - accuracy: 0.9479\n",
            "Epoch 96/100\n",
            "27/27 [==============================] - 3s 121ms/step - loss: 0.1979 - accuracy: 0.9421\n",
            "Epoch 97/100\n",
            "27/27 [==============================] - 6s 214ms/step - loss: 0.1950 - accuracy: 0.9432\n",
            "Epoch 98/100\n",
            "27/27 [==============================] - 6s 238ms/step - loss: 0.1931 - accuracy: 0.9479\n",
            "Epoch 99/100\n",
            "27/27 [==============================] - 7s 248ms/step - loss: 0.1900 - accuracy: 0.9467\n",
            "Epoch 100/100\n",
            "27/27 [==============================] - 6s 235ms/step - loss: 0.1850 - accuracy: 0.9479\n"
          ]
        }
      ]
    },
    {
      "cell_type": "code",
      "source": [
        "import matplotlib.pyplot as plt\n",
        "\n",
        "plt.plot(history.history[\"accuracy\"])\n",
        "plt.title(\"Accuracy Vs Epochs\")\n",
        "plt.xlabel(\"Epochs\")\n",
        "plt.ylabel(\"Accuracy\")\n",
        "plt.legend([\"Accuracy\"],loc=\"upper left\")"
      ],
      "metadata": {
        "colab": {
          "base_uri": "https://localhost:8080/",
          "height": 489
        },
        "id": "d3AwCE0DxiW2",
        "outputId": "7cd6279b-c5f7-4afe-fd77-7ed4de01d2f1"
      },
      "execution_count": 49,
      "outputs": [
        {
          "output_type": "execute_result",
          "data": {
            "text/plain": [
              "<matplotlib.legend.Legend at 0x79f1f21daec0>"
            ]
          },
          "metadata": {},
          "execution_count": 49
        },
        {
          "output_type": "display_data",
          "data": {
            "text/plain": [
              "<Figure size 640x480 with 1 Axes>"
            ],
            "image/png": "[encoded data removed]"
          },
          "metadata": {}
        }
      ]
    },
    {
      "cell_type": "code",
      "source": [
        "import numpy as np\n",
        "\n",
        "while(True):\n",
        "  i=input(\"Enter:\")\n",
        "  if i==\"break\":\n",
        "    break\n",
        "  text=i\n",
        "  i=tokenizer.texts_to_sequences([i])[0]\n",
        "  i=pad_sequences([i],maxlen=56,padding=\"pre\")\n",
        "  pos=np.argmax(model.predict(i))\n",
        "  for word,index in tokenizer.word_index.items():\n",
        "    if index == pos:\n",
        "      text = text + \" \" + word\n",
        "      print(text)"
      ],
      "metadata": {
        "colab": {
          "base_uri": "https://localhost:8080/"
        },
        "id": "4XNeg1sZzdbH",
        "outputId": "722d6093-04e3-42e7-ac1e-931af4534d2d"
      },
      "execution_count": 57,
      "outputs": [
        {
          "name": "stdout",
          "output_type": "stream",
          "text": [
            "Enter:what\n",
            "1/1 [==============================] - 0s 25ms/step\n",
            "what is\n",
            "Enter:how\n",
            "1/1 [==============================] - 0s 18ms/step\n",
            "how will\n",
            "Enter:when\n",
            "1/1 [==============================] - 0s 18ms/step\n",
            "when can\n",
            "Enter:where\n",
            "1/1 [==============================] - 0s 21ms/step\n",
            "where can\n",
            "Enter:break\n"
          ]
        }
      ]
    },
    {
      "cell_type": "markdown",
      "source": [
        "Thank You"
      ],
      "metadata": {
        "id": "MEK3Toth2ggq"
      }
    }
  ]
}